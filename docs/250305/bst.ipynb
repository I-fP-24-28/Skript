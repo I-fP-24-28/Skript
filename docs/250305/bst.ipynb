{
 "cells": [
  {
   "cell_type": "markdown",
   "metadata": {},
   "source": [
    "# Binary Search Tree"
   ]
  },
  {
   "cell_type": "markdown",
   "metadata": {},
   "source": [
    "## Klasse BSTNode"
   ]
  },
  {
   "cell_type": "code",
   "execution_count": 1,
   "metadata": {},
   "outputs": [],
   "source": [
    "class BSTNode:\n",
    "    def __init__(self, key, value=None):\n",
    "        self.key = key\n",
    "        self.value = value\n",
    "        self.parent = None\n",
    "        self.left = None\n",
    "        self.right = None\n",
    "\n",
    "    def __str__(self):\n",
    "        key = str(self.key)\n",
    "        parent = 'None' if self.parent is None else str(self.parent.key)\n",
    "        left = 'None' if self.left is None else str(self.left.key)\n",
    "        right = 'None' if self.right is None else str(self.right.key)\n",
    "        s = (\n",
    "            f'\\tParent = {parent}\\n'\n",
    "            f'\\tKey = {key}\\n'\n",
    "            f'Left = {left}\\tRight = {right}'\n",
    "        )\n",
    "        return s"
   ]
  },
  {
   "cell_type": "markdown",
   "metadata": {},
   "source": [
    "## Klasse BST"
   ]
  },
  {
   "cell_type": "code",
   "execution_count": 51,
   "metadata": {},
   "outputs": [],
   "source": [
    "class BST:\n",
    "    def __init__(self, key=None, value=None):\n",
    "        if key is None:\n",
    "            self.root = None\n",
    "        else:\n",
    "            node = BSTNode(key, value)            \n",
    "            self.root = node\n",
    "            \n",
    "    def insert(self, key, value=None, root=None):\n",
    "        node = BSTNode(key, value)\n",
    "        if self.root is None:\n",
    "            self.root = node\n",
    "            return\n",
    "\n",
    "        if root is None:\n",
    "            root = self.root\n",
    "        \n",
    "        if key < root.key and root.left is None:\n",
    "            root.left = node\n",
    "            node.parent = root\n",
    "            return\n",
    "\n",
    "        if key < root.key:\n",
    "            root = root.left\n",
    "            self.insert(key, value, root)\n",
    "            \n",
    "        \n",
    "        if key > root.key and root.right is None:\n",
    "            root.right = node\n",
    "            node.parent = root\n",
    "            return\n",
    "\n",
    "        if key > root.key:\n",
    "            root = root.right\n",
    "            self.insert(key, value, root)\n",
    "\n",
    "    def min(self, bst=None):\n",
    "        if bst is None:\n",
    "            minimum = self.root\n",
    "        else:\n",
    "            minimum =bst.root\n",
    "        \n",
    "        while minimum.left is not None:\n",
    "            minimum = minimum.left\n",
    "        \n",
    "        return minimum\n",
    "\n",
    "    def max(self, bst=None):\n",
    "        if bst is None:\n",
    "            maximum = self.root\n",
    "        else:\n",
    "            maximum = bst.root\n",
    "\n",
    "        while maximum.right is not None:\n",
    "            maximum = maximum.right\n",
    "\n",
    "        return maximum\n",
    "\n",
    "    def search(self, key, node=None):\n",
    "        if node is None:\n",
    "            node = self.root\n",
    "        \n",
    "        elif key == node.key:\n",
    "            return node\n",
    "\n",
    "        elif node.left is None and node.right is None:\n",
    "            return -1\n",
    "            \n",
    "        elif key < node.key:\n",
    "            node = node.left\n",
    "            return self.search(key, node)\n",
    "        elif key > node.key:\n",
    "            node = node.right\n",
    "            return self.search(key, node)\n",
    "            \n",
    "        \n",
    "    \n",
    "    def delete(self, key):\n",
    "        node = self.search(key)\n",
    "        parent = node.parent\n",
    "        \n",
    "        # delete leaf\n",
    "        if node.left is None and node.right is None:\n",
    "            if key < parent.key:\n",
    "                parent.left = None                \n",
    "            else:\n",
    "                parent.right = None\n",
    "                \n",
    "            node.parent = None\n",
    "            return\n",
    "\n",
    "        # delete one child node\n",
    "        if node.left is None or node.right is None:\n",
    "            parent = node.parent\n",
    "\n",
    "            \n",
    "            if key < node.parent.key:                \n",
    "                node.parent.left = None\n",
    "            else:                \n",
    "                node.parent.right = None\n",
    "\n",
    "            if node.left is None:\n",
    "                child = node.right\n",
    "                node.right = None\n",
    "            else:\n",
    "                child = node.left\n",
    "                node.left = None\n",
    "\n",
    "            if child.key < parent.key:\n",
    "                parent.left = child\n",
    "            else:\n",
    "                parent.right = child\n",
    "                \n",
    "            return\n",
    "\n",
    "        # delete two child node\n",
    "        if node.left is not None and node.right is not None:\n",
    "            replacement = min(node.right)\n",
    "            d_parent = node.parent\n",
    "            d_left = node.left\n",
    "            d_right = node.right\n",
    "            r_parent = replacement.parent\n",
    "            r_right = replacement.right\n",
    "\n",
    "            replacement.parent = d_parent\n",
    "            replacement.left = d_left\n",
    "            replacement.right = d_right\n",
    "            r_parent.left = r_right\n",
    "\n",
    "            node.parent = node.left = node.right = None\n",
    "            return\n",
    "        \n",
    "    \n",
    "    def iterate(self):\n",
    "        pass"
   ]
  },
  {
   "cell_type": "code",
   "execution_count": 52,
   "metadata": {},
   "outputs": [],
   "source": [
    "tree = BST()\n",
    "numbers = [42, 21, 84, 13, 30, 60, 90]\n",
    "\n",
    "for n in numbers:\n",
    "    tree.insert(n)"
   ]
  },
  {
   "cell_type": "code",
   "execution_count": 50,
   "metadata": {},
   "outputs": [
    {
     "name": "stdout",
     "output_type": "stream",
     "text": [
      "-1\n"
     ]
    }
   ],
   "source": [
    "node = tree.search(70, tree.root)\n",
    "print(node)"
   ]
  },
  {
   "cell_type": "code",
   "execution_count": 53,
   "metadata": {},
   "outputs": [
    {
     "ename": "AttributeError",
     "evalue": "'NoneType' object has no attribute 'parent'",
     "output_type": "error",
     "traceback": [
      "\u001b[1;31m---------------------------------------------------------------------------\u001b[0m",
      "\u001b[1;31mAttributeError\u001b[0m                            Traceback (most recent call last)",
      "Cell \u001b[1;32mIn[53], line 1\u001b[0m\n\u001b[1;32m----> 1\u001b[0m \u001b[43mtree\u001b[49m\u001b[38;5;241;43m.\u001b[39;49m\u001b[43mdelete\u001b[49m\u001b[43m(\u001b[49m\u001b[38;5;241;43m13\u001b[39;49m\u001b[43m)\u001b[49m\n",
      "Cell \u001b[1;32mIn[51], line 80\u001b[0m, in \u001b[0;36mBST.delete\u001b[1;34m(self, key)\u001b[0m\n\u001b[0;32m     78\u001b[0m \u001b[38;5;28;01mdef\u001b[39;00m \u001b[38;5;21mdelete\u001b[39m(\u001b[38;5;28mself\u001b[39m, key):\n\u001b[0;32m     79\u001b[0m     node \u001b[38;5;241m=\u001b[39m \u001b[38;5;28mself\u001b[39m\u001b[38;5;241m.\u001b[39msearch(key)\n\u001b[1;32m---> 80\u001b[0m     parent \u001b[38;5;241m=\u001b[39m \u001b[43mnode\u001b[49m\u001b[38;5;241;43m.\u001b[39;49m\u001b[43mparent\u001b[49m\n\u001b[0;32m     82\u001b[0m     \u001b[38;5;66;03m# delete leaf\u001b[39;00m\n\u001b[0;32m     83\u001b[0m     \u001b[38;5;28;01mif\u001b[39;00m node\u001b[38;5;241m.\u001b[39mleft \u001b[38;5;129;01mis\u001b[39;00m \u001b[38;5;28;01mNone\u001b[39;00m \u001b[38;5;129;01mand\u001b[39;00m node\u001b[38;5;241m.\u001b[39mright \u001b[38;5;129;01mis\u001b[39;00m \u001b[38;5;28;01mNone\u001b[39;00m:\n",
      "\u001b[1;31mAttributeError\u001b[0m: 'NoneType' object has no attribute 'parent'"
     ]
    }
   ],
   "source": [
    "tree.delete(13)"
   ]
  },
  {
   "cell_type": "code",
   "execution_count": null,
   "metadata": {},
   "outputs": [],
   "source": []
  }
 ],
 "metadata": {
  "kernelspec": {
   "display_name": "Python 3 (ipykernel)",
   "language": "python",
   "name": "python3"
  },
  "language_info": {
   "codemirror_mode": {
    "name": "ipython",
    "version": 3
   },
   "file_extension": ".py",
   "mimetype": "text/x-python",
   "name": "python",
   "nbconvert_exporter": "python",
   "pygments_lexer": "ipython3",
   "version": "3.12.6"
  },
  "widgets": {
   "application/vnd.jupyter.widget-state+json": {
    "state": {},
    "version_major": 2,
    "version_minor": 0
   }
  }
 },
 "nbformat": 4,
 "nbformat_minor": 4
}
