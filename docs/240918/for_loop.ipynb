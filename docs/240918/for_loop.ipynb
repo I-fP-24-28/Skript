{
 "cells": [
  {
   "cell_type": "markdown",
   "metadata": {},
   "source": [
    "# Python For-Loops"
   ]
  },
  {
   "cell_type": "markdown",
   "metadata": {},
   "source": [
    "Zum Aufwärmen schreiben Sie in der folgenden Zelle eine For-Schleife,\n",
    "welche die Zahlen von 1 bis 10 anzeigt."
   ]
  },
  {
   "cell_type": "code",
   "execution_count": null,
   "metadata": {},
   "outputs": [],
   "source": [
    "# hier kommt Ihr Code"
   ]
  },
  {
   "cell_type": "markdown",
   "metadata": {},
   "source": [
    "Als nächstes geht es darum, die Schleife in einem weiteren Zusammenhang\n",
    "anzuwenden. Dazu müssen zuerst die erforderlichen PyTamaro Pakete\n",
    "geladen werden."
   ]
  },
  {
   "cell_type": "code",
   "execution_count": 2,
   "metadata": {},
   "outputs": [],
   "source": [
    "from pytamaro.de import (\n",
    "    rechteck, ellipse,\n",
    "    gruen, rot, gelb, weiss, rgb_farbe,\n",
    "    neben, ueberlagere, fixiere, kombiniere, drehe,\n",
    "    unten_mitte,\n",
    "    zeige_grafik,\n",
    ")"
   ]
  },
  {
   "cell_type": "markdown",
   "metadata": {},
   "source": [
    "Ziel der folgenden Übung ist es, die folgende Grafik nachzubauen:"
   ]
  },
  {
   "cell_type": "markdown",
   "metadata": {},
   "source": [
    "<img alt=\"\" src=\"data:image/png;base64,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\" />"
   ]
  },
  {
   "cell_type": "code",
   "execution_count": null,
   "metadata": {},
   "outputs": [],
   "source": [
    "# Hier kommt die Umsetzung"
   ]
  }
 ],
 "metadata": {
  "kernelspec": {
   "display_name": ".venv",
   "language": "python",
   "name": "python3"
  },
  "language_info": {
   "codemirror_mode": {
    "name": "ipython",
    "version": 3
   },
   "file_extension": ".py",
   "mimetype": "text/x-python",
   "name": "python",
   "nbconvert_exporter": "python",
   "pygments_lexer": "ipython3",
   "version": "3.12.6"
  }
 },
 "nbformat": 4,
 "nbformat_minor": 2
}
