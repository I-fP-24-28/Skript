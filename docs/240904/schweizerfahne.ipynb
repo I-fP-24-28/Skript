{
 "cells": [
  {
   "cell_type": "markdown",
   "metadata": {},
   "source": [
    "# Einfache Zeichnungen"
   ]
  },
  {
   "cell_type": "markdown",
   "metadata": {},
   "source": [
    "## Tessiner Wappen\n",
    "\n",
    "PyTamaro wird von einem Team an der Università della Svizzera italiana\n",
    "in Lugano entwickelt. Zu ehren des Standortkantons geht es in einer\n",
    "ersten Übung darum, das Tessiner Wappen zu zeichnen.\n",
    "\n",
    "![Wappen des Kantons Tessin](images/ti.svg)"
   ]
  },
  {
   "cell_type": "markdown",
   "metadata": {},
   "source": [
    "### Vorgehen\n",
    "\n",
    "1. Das Wappen wird in einzelteile zerlegt.\n",
    "   \n",
    "   ![Wappen Kanton Tessin mit Hilfslinien](images/ti_zerlegt.svg)\n",
    "\n",
    "\n",
    "2. Die Einzelteile werden aufgelistet.\n",
    "   1. rotes Rechteck\n",
    "   2. blaues Rechteck\n",
    "   3. roter Viertelkreis\n",
    "   4. blauer Viertelkreis\n",
    "3. Die Einzelteile werden mit PyTamaro programmiert.\n",
    "4. Die Einzelteile werden mit PyTamaro zusammengesetzt."
   ]
  },
  {
   "cell_type": "markdown",
   "metadata": {},
   "source": [
    "### Umsetzung in PyTamaro"
   ]
  },
  {
   "cell_type": "code",
   "execution_count": 3,
   "metadata": {},
   "outputs": [],
   "source": [
    "# Import der erforderlichen Libraries\n",
    "from pytamaro.de import (\n",
    "    rot, blau,\n",
    "    rechteck, kreis_sektor,\n",
    "    drehe, neben, ueber,\n",
    "    zeige_grafik\n",
    ")"
   ]
  },
  {
   "cell_type": "code",
   "execution_count": 4,
   "metadata": {},
   "outputs": [
    {
     "data": {
      "image/png": "[encoded data removed]",
      "text/plain": [
       "<PIL.Image.Image image mode=RGBA size=10x15>"
      ]
     },
     "metadata": {},
     "output_type": "display_data"
    }
   ],
   "source": [
    "rotes_rechteck = rechteck(10, 15, rot)\n",
    "zeige_grafik(rotes_rechteck)"
   ]
  },
  {
   "cell_type": "code",
   "execution_count": 6,
   "metadata": {},
   "outputs": [
    {
     "data": {
      "image/png": "[encoded data removed]",
      "text/plain": [
       "<PIL.Image.Image image mode=RGBA size=10x15>"
      ]
     },
     "metadata": {},
     "output_type": "display_data"
    }
   ],
   "source": [
    "blaues_rechteck = rechteck(10, 15, blau)\n",
    "zeige_grafik(blaues_rechteck)"
   ]
  },
  {
   "cell_type": "code",
   "execution_count": 8,
   "metadata": {},
   "outputs": [
    {
     "data": {
      "image/png": "[encoded data removed]",
      "text/plain": [
       "<PIL.Image.Image image mode=RGBA size=10x10>"
      ]
     },
     "metadata": {},
     "output_type": "display_data"
    }
   ],
   "source": [
    "roter_viertelkreis = kreis_sektor(10, 90, rot)\n",
    "roter_viertelkreis = drehe(180, roter_viertelkreis)\n",
    "zeige_grafik(roter_viertelkreis)"
   ]
  },
  {
   "cell_type": "code",
   "execution_count": 10,
   "metadata": {},
   "outputs": [
    {
     "data": {
      "image/png": "[encoded data removed]",
      "text/plain": [
       "<PIL.Image.Image image mode=RGBA size=10x10>"
      ]
     },
     "metadata": {},
     "output_type": "display_data"
    }
   ],
   "source": [
    "blauer_viertelkreis = kreis_sektor(10, 90, blau)\n",
    "blauer_viertelkreis = drehe(270, blauer_viertelkreis)\n",
    "zeige_grafik(blauer_viertelkreis)"
   ]
  },
  {
   "cell_type": "code",
   "execution_count": 11,
   "metadata": {},
   "outputs": [
    {
     "data": {
      "image/png": "[encoded data removed]",
      "text/plain": [
       "<PIL.Image.Image image mode=RGBA size=20x15>"
      ]
     },
     "metadata": {},
     "output_type": "display_data"
    }
   ],
   "source": [
    "obere_haelfte = neben(rotes_rechteck, blaues_rechteck)\n",
    "zeige_grafik(obere_haelfte)"
   ]
  },
  {
   "cell_type": "code",
   "execution_count": 12,
   "metadata": {},
   "outputs": [
    {
     "data": {
      "image/png": "[encoded data removed]",
      "text/plain": [
       "<PIL.Image.Image image mode=RGBA size=20x10>"
      ]
     },
     "metadata": {},
     "output_type": "display_data"
    }
   ],
   "source": [
    "untere_haelfte = neben(roter_viertelkreis, blauer_viertelkreis)\n",
    "zeige_grafik(untere_haelfte)"
   ]
  },
  {
   "cell_type": "code",
   "execution_count": 13,
   "metadata": {},
   "outputs": [
    {
     "data": {
      "image/png": "[encoded data removed]",
      "text/plain": [
       "<PIL.Image.Image image mode=RGBA size=20x25>"
      ]
     },
     "metadata": {},
     "output_type": "display_data"
    }
   ],
   "source": [
    "ti = ueber(obere_haelfte, untere_haelfte)\n",
    "zeige_grafik(ti)"
   ]
  }
 ],
 "metadata": {
  "kernelspec": {
   "display_name": ".venv",
   "language": "python",
   "name": "python3"
  },
  "language_info": {
   "codemirror_mode": {
    "name": "ipython",
    "version": 3
   },
   "file_extension": ".py",
   "mimetype": "text/x-python",
   "name": "python",
   "nbconvert_exporter": "python",
   "pygments_lexer": "ipython3",
   "version": "3.12.4"
  }
 },
 "nbformat": 4,
 "nbformat_minor": 2
}
