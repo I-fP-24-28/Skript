{
 "cells": [
  {
   "cell_type": "markdown",
   "metadata": {},
   "source": [
    "# Einfache Zeichnungen"
   ]
  },
  {
   "cell_type": "markdown",
   "metadata": {},
   "source": [
    "## Tessiner Wappen\n",
    "\n",
    "PyTamaro wird von einem Team an der Università della Svizzera italiana\n",
    "in Lugano entwickelt. Zu ehren des Standortkantons geht es in einer\n",
    "ersten Übung darum, das Tessiner Wappen zu zeichnen.\n",
    "\n",
    "![Wappen des Kantons Tessin](images/ti.svg)"
   ]
  },
  {
   "cell_type": "markdown",
   "metadata": {},
   "source": [
    "### Vorgehen\n",
    "\n",
    "1. Das Wappen wird in einzelteile zerlegt.\n",
    "   \n",
    "   ![Wappen Kanton Tessin mit Hilfslinien](images/ti_zerlegt.svg)\n",
    "\n",
    "\n",
    "2. Die Einzelteile werden aufgelistet.\n",
    "   1. rotes Rechteck\n",
    "   2. blaues Rechteck\n",
    "   3. roter Viertelkreis\n",
    "   4. blauer Viertelkreis\n",
    "3. Die Einzelteile werden mit PyTamaro programmiert.\n",
    "4. Die Einzelteile werden mit PyTamaro zusammengesetzt."
   ]
  },
  {
   "cell_type": "markdown",
   "metadata": {},
   "source": [
    "### Umsetzung in PyTamaro"
   ]
  },
  {
   "cell_type": "code",
   "execution_count": 3,
   "metadata": {},
   "outputs": [],
   "source": [
    "from pytamaro.de import (\n",
    "    rot, blau,\n",
    "    rechteck, kreis_sektor,\n",
    "    drehe, neben, ueber,\n",
    "    zeige_grafik\n",
    ")"
   ]
  }
 ],
 "metadata": {
  "kernelspec": {
   "display_name": ".venv",
   "language": "python",
   "name": "python3"
  },
  "language_info": {
   "codemirror_mode": {
    "name": "ipython",
    "version": 3
   },
   "file_extension": ".py",
   "mimetype": "text/x-python",
   "name": "python",
   "nbconvert_exporter": "python",
   "pygments_lexer": "ipython3",
   "version": "3.12.4"
  }
 },
 "nbformat": 4,
 "nbformat_minor": 2
}
