{
 "cells": [
  {
   "cell_type": "markdown",
   "metadata": {},
   "source": [
    "# Einfache Zeichnungen"
   ]
  },
  {
   "cell_type": "markdown",
   "metadata": {},
   "source": [
    "## Tessiner Wappen\n",
    "\n",
    "PyTamaro wird von einem Team an der Università della Svizzera italiana\n",
    "in Lugano entwickelt. Zu ehren des Standortkantons geht es in einer\n",
    "ersten Übung darum, das Tessiner Wappen zu zeichnen.\n",
    "\n",
    "![Wappen des Kantons Tessin](images/ti.svg)"
   ]
  },
  {
   "cell_type": "code",
   "execution_count": null,
   "metadata": {},
   "outputs": [],
   "source": []
  }
 ],
 "metadata": {
  "language_info": {
   "name": "python"
  }
 },
 "nbformat": 4,
 "nbformat_minor": 2
}
