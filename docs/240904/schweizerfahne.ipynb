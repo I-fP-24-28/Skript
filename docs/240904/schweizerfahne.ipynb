{
 "cells": [
  {
   "cell_type": "markdown",
   "metadata": {},
   "source": [
    "# Einfache Zeichnungen"
   ]
  },
  {
   "cell_type": "markdown",
   "metadata": {},
   "source": [
    "## Tessiner Wappen\n",
    "\n",
    "PyTamaro wird von einem Team an der Università della Svizzera italiana\n",
    "in Lugano entwickelt. Zu ehren des Standortkantons geht es in einer\n",
    "ersten Übung darum, das Tessiner Wappen zu zeichnen.\n",
    "\n",
    "![Wappen des Kantons Tessin](images/ti.svg)"
   ]
  },
  {
   "cell_type": "markdown",
   "metadata": {},
   "source": [
    "### Vorgehen\n",
    "\n",
    "1. Das Wappen wird in Einzelteile zerlegt.\n",
    "   \n",
    "   ![Wappen Kanton Tessin mit Hilfslinien](images/ti_zerlegt.svg)\n",
    "\n",
    "\n",
    "2. Die Einzelteile werden aufgelistet.\n",
    "   1. rotes Rechteck\n",
    "   2. blaues Rechteck\n",
    "   3. roter Viertelkreis\n",
    "   4. blauer Viertelkreis\n",
    "3. Die Einzelteile werden mit PyTamaro programmiert.\n",
    "4. Die Einzelteile werden mit PyTamaro zusammengesetzt."
   ]
  },
  {
   "cell_type": "markdown",
   "metadata": {},
   "source": [
    "### Umsetzung in PyTamaro"
   ]
  },
  {
   "cell_type": "code",
   "execution_count": 3,
   "metadata": {},
   "outputs": [],
   "source": [
    "# Import der erforderlichen Libraries\n",
    "from pytamaro.de import (\n",
    "    rot, blau,\n",
    "    rechteck, kreis_sektor,\n",
    "    drehe, neben, ueber,\n",
    "    zeige_grafik\n",
    ")"
   ]
  },
  {
   "cell_type": "code",
   "execution_count": 4,
   "metadata": {},
   "outputs": [
    {
     "data": {
      "image/png": "[encoded data removed]",
      "text/plain": [
       "<PIL.Image.Image image mode=RGBA size=10x15>"
      ]
     },
     "metadata": {},
     "output_type": "display_data"
    }
   ],
   "source": [
    "rotes_rechteck = rechteck(10, 15, rot)\n",
    "zeige_grafik(rotes_rechteck)"
   ]
  },
  {
   "cell_type": "code",
   "execution_count": 6,
   "metadata": {},
   "outputs": [
    {
     "data": {
      "image/png": "[encoded data removed]",
      "text/plain": [
       "<PIL.Image.Image image mode=RGBA size=10x15>"
      ]
     },
     "metadata": {},
     "output_type": "display_data"
    }
   ],
   "source": [
    "blaues_rechteck = rechteck(10, 15, blau)\n",
    "zeige_grafik(blaues_rechteck)"
   ]
  },
  {
   "cell_type": "code",
   "execution_count": 8,
   "metadata": {},
   "outputs": [
    {
     "data": {
      "image/png": "[encoded data removed]",
      "text/plain": [
       "<PIL.Image.Image image mode=RGBA size=10x10>"
      ]
     },
     "metadata": {},
     "output_type": "display_data"
    }
   ],
   "source": [
    "roter_viertelkreis = kreis_sektor(10, 90, rot)\n",
    "roter_viertelkreis = drehe(180, roter_viertelkreis)\n",
    "zeige_grafik(roter_viertelkreis)"
   ]
  },
  {
   "cell_type": "code",
   "execution_count": 10,
   "metadata": {},
   "outputs": [
    {
     "data": {
      "image/png": "[encoded data removed]",
      "text/plain": [
       "<PIL.Image.Image image mode=RGBA size=10x10>"
      ]
     },
     "metadata": {},
     "output_type": "display_data"
    }
   ],
   "source": [
    "blauer_viertelkreis = kreis_sektor(10, 90, blau)\n",
    "blauer_viertelkreis = drehe(270, blauer_viertelkreis)\n",
    "zeige_grafik(blauer_viertelkreis)"
   ]
  },
  {
   "cell_type": "code",
   "execution_count": 11,
   "metadata": {},
   "outputs": [
    {
     "data": {
      "image/png": "[encoded data removed]",
      "text/plain": [
       "<PIL.Image.Image image mode=RGBA size=20x15>"
      ]
     },
     "metadata": {},
     "output_type": "display_data"
    }
   ],
   "source": [
    "obere_haelfte = neben(rotes_rechteck, blaues_rechteck)\n",
    "zeige_grafik(obere_haelfte)"
   ]
  },
  {
   "cell_type": "code",
   "execution_count": 12,
   "metadata": {},
   "outputs": [
    {
     "data": {
      "image/png": "[encoded data removed]",
      "text/plain": [
       "<PIL.Image.Image image mode=RGBA size=20x10>"
      ]
     },
     "metadata": {},
     "output_type": "display_data"
    }
   ],
   "source": [
    "untere_haelfte = neben(roter_viertelkreis, blauer_viertelkreis)\n",
    "zeige_grafik(untere_haelfte)"
   ]
  },
  {
   "cell_type": "code",
   "execution_count": 13,
   "metadata": {},
   "outputs": [
    {
     "data": {
      "image/png": "[encoded data removed]",
      "text/plain": [
       "<PIL.Image.Image image mode=RGBA size=20x25>"
      ]
     },
     "metadata": {},
     "output_type": "display_data"
    }
   ],
   "source": [
    "ti = ueber(obere_haelfte, untere_haelfte)\n",
    "zeige_grafik(ti)"
   ]
  },
  {
   "cell_type": "markdown",
   "metadata": {},
   "source": [
    "### Code Aufräumen (Refactoring)\n",
    "\n",
    "Die Erste Aufgabe beim Programmieren ist sicher die Lösung des konkreten\n",
    "Problems. Eng damit Verbunden ist allerdings auch die übersichtliche\n",
    "Darstellung des Programms. Dabei ist insbesondere darauf zu achten, das\n",
    "Wiederholungen so weit wie möglich vermieden werden. Unten steht der\n",
    "bereinigte Code der verwendet wurde, um das Tessiner Wappen zu zeichnen.\n",
    "\n",
    "```python\n",
    "rotes_rechteck = rechteck(10, 15, rot)\n",
    "blaues_rechteck = rechteck(10, 15, blau)\n",
    "roter_viertelkreis = kreis_sektor(10, 90, rot)\n",
    "roter_viertelkreis = drehe(180, roter_viertelkreis)\n",
    "blauer_viertelkreis = kreis_sektor(10, 90, blau)\n",
    "blauer_viertelkreis = drehe(270, blauer_viertelkreis)\n",
    "obere_haelfte = neben(rotes_rechteck, blaues_rechteck)\n",
    "untere_haelfte = neben(roter_viertelkreis, blauer_viertelkreis)\n",
    "ti = ueber(obere_haelfte, untere_haelfte)\n",
    "zeige_grafik(ti)\n",
    "```\n",
    "\n",
    "Dieser Code soll nun so bereinigt werden, dass Wiederholungen vermieden\n",
    "werden. Dabei soll allerdings dessen Verständlichkeit nicht leiden."
   ]
  },
  {
   "cell_type": "code",
   "execution_count": 15,
   "metadata": {},
   "outputs": [
    {
     "data": {
      "image/png": "[encoded data removed]",
      "text/plain": [
       "<PIL.Image.Image image mode=RGBA size=100x125>"
      ]
     },
     "metadata": {},
     "output_type": "display_data"
    }
   ],
   "source": [
    "breite = 50\n",
    "laenge = 1.5 * breite\n",
    "rotes_rechteck = rechteck(breite, laenge, rot)\n",
    "blaues_rechteck = rechteck(breite, laenge, blau)\n",
    "roter_viertelkreis = kreis_sektor(breite, 90, rot)\n",
    "roter_viertelkreis = drehe(180, roter_viertelkreis)\n",
    "blauer_viertelkreis = kreis_sektor(breite, 90, blau)\n",
    "blauer_viertelkreis = drehe(270, blauer_viertelkreis)\n",
    "obere_haelfte = neben(rotes_rechteck, blaues_rechteck)\n",
    "untere_haelfte = neben(roter_viertelkreis, blauer_viertelkreis)\n",
    "ti = ueber(obere_haelfte, untere_haelfte)\n",
    "zeige_grafik(ti)"
   ]
  },
  {
   "cell_type": "markdown",
   "metadata": {},
   "source": [
    "## Schweizerfahne\n",
    "\n",
    "Alle kennen die Schweizerfahne. Ein weisses Kreuz auf rotem Grund. Was\n",
    "viele nicht wissen, dass es für die genauen Proportionen eine\n",
    "gesetzliche Grundlage gibt, das Bundesgesetz über den Schutz des\n",
    "Schweizerwappens und anderer öffentlicher Zeichen (Wappenschutzgesetz,\n",
    "WSchG). Das WSchG regelt in seinem Anhang 2 die Proportionen und die\n",
    "Farben der Schweizerfahne.\n",
    "\n",
    "![Anhang 2 WSchG](images/schweizerfahne.png)\n",
    "\n",
    "Basierend auf diesen Vorgaben soll die Schweizerfahne gezeichnet werden."
   ]
  },
  {
   "cell_type": "markdown",
   "metadata": {},
   "source": [
    "### Umsetzung in PyTamaro"
   ]
  },
  {
   "cell_type": "code",
   "execution_count": 27,
   "metadata": {},
   "outputs": [],
   "source": [
    "from pytamaro.de import (\n",
    "    ueberlagere,\n",
    "    weiss, rgb_farbe\n",
    ")"
   ]
  },
  {
   "cell_type": "code",
   "execution_count": 29,
   "metadata": {},
   "outputs": [
    {
     "data": {
      "image/png": "[encoded data removed]",
      "text/plain": [
       "<PIL.Image.Image image mode=RGBA size=160x160>"
      ]
     },
     "metadata": {},
     "output_type": "display_data"
    }
   ],
   "source": [
    "hintergrundfarbe = rgb_farbe(255, 0, 0)\n",
    "einheit = 5\n",
    "breite = 20 * einheit\n",
    "hoehe = 6 * einheit\n",
    "kante = 32 * einheit\n",
    "\n",
    "tuch = rechteck(kante, kante, hintergrundfarbe)\n",
    "balken = rechteck(breite, hoehe, weiss)\n",
    "balken_senkrecht = drehe(90, balken)\n",
    "kreuz = ueberlagere(balken, balken_senkrecht)\n",
    "fahne = ueberlagere(kreuz, tuch)\n",
    "zeige_grafik(fahne)"
   ]
  }
 ],
 "metadata": {
  "kernelspec": {
   "display_name": ".venv",
   "language": "python",
   "name": "python3"
  },
  "language_info": {
   "codemirror_mode": {
    "name": "ipython",
    "version": 3
   },
   "file_extension": ".py",
   "mimetype": "text/x-python",
   "name": "python",
   "nbconvert_exporter": "python",
   "pygments_lexer": "ipython3",
   "version": "3.12.4"
  }
 },
 "nbformat": 4,
 "nbformat_minor": 2
}
