{
 "cells": [
  {
   "cell_type": "markdown",
   "metadata": {},
   "source": [
    "# Anwendungsübung zur Rekursion\n",
    "\n",
    "In diesem Notebook soll eine graphische Anwendung einer rekursiven Funktion\n",
    "implementiert werden."
   ]
  },
  {
   "cell_type": "code",
   "execution_count": 43,
   "metadata": {},
   "outputs": [],
   "source": [
    "from pytamaro import (\n",
    "    rectangle, Graphic, Empty,\n",
    "    black,\n",
    "    pin, bottom_left, bottom_right, top_left, top_right, bottom_center,\n",
    "    rotate, compose, graphic_height, overlay,\n",
    "    show_graphic,\n",
    ")\n",
    "\n",
    "from pytamaro.de import kombiniere"
   ]
  },
  {
   "cell_type": "code",
   "execution_count": 25,
   "metadata": {},
   "outputs": [
    {
     "data": {
      "image/png": "[encoded data removed]",
      "text/plain": [
       "<PIL.Image.Image image mode=RGBA size=50x5>"
      ]
     },
     "metadata": {},
     "output_type": "display_data"
    }
   ],
   "source": [
    "def draw_line(length: float) -> Graphic:\n",
    "    width = length * 0.1\n",
    "    return rectangle(length, width, black)\n",
    "\n",
    "show_graphic(draw_line(50))"
   ]
  },
  {
   "cell_type": "code",
   "execution_count": 13,
   "metadata": {},
   "outputs": [
    {
     "data": {
      "image/png": "[encoded data removed]",
      "text/plain": [
       "<PIL.Image.Image image mode=RGBA size=54x89>"
      ]
     },
     "metadata": {},
     "output_type": "display_data"
    }
   ],
   "source": [
    "testline = draw_line(100)\n",
    "show_graphic(rotate(60, testline))"
   ]
  },
  {
   "cell_type": "code",
   "execution_count": 14,
   "metadata": {},
   "outputs": [
    {
     "data": {
      "image/png": "[encoded data removed]",
      "text/plain": [
       "<PIL.Image.Image image mode=RGBA size=309x89>"
      ]
     },
     "metadata": {},
     "output_type": "display_data"
    }
   ],
   "source": [
    "def compose_element(element: Graphic) -> Graphic:\n",
    "    first_quarter = pin(bottom_right, element)\n",
    "    second_quarter = pin(bottom_left, rotate(60, element))\n",
    "    half = kombiniere(first_quarter, second_quarter)\n",
    "    third_quarter = pin(bottom_left, rotate(-60, element))\n",
    "    half = pin(bottom_right, half)\n",
    "    three_quarter = kombiniere(half, third_quarter)\n",
    "    fourth_quarter = pin(bottom_left, element)\n",
    "    three_quarter = pin(bottom_right, three_quarter)\n",
    "    return kombiniere(three_quarter, fourth_quarter)\n",
    "\n",
    "show_graphic(compose_element(testline))"
   ]
  },
  {
   "cell_type": "code",
   "execution_count": 47,
   "metadata": {},
   "outputs": [
    {
     "data": {
      "image/png": "[encoded data removed]",
      "text/plain": [
       "<PIL.Image.Image image mode=RGBA size=188x217>"
      ]
     },
     "metadata": {},
     "output_type": "display_data"
    },
    {
     "data": {
      "image/png": "[encoded data removed]",
      "text/plain": [
       "<PIL.Image.Image image mode=RGBA size=217x22>"
      ]
     },
     "metadata": {},
     "output_type": "display_data"
    }
   ],
   "source": [
    "def hilbert(n: int, m = 1) -> Graphic:\n",
    "    BASE_LENGTH = 100\n",
    "    if n == 1:\n",
    "        part = draw_line(BASE_LENGTH / (m**2.5))\n",
    "        element = compose_element(part)\n",
    "        return element\n",
    "    else:\n",
    "        m += 1        \n",
    "        return compose_element(hilbert(n-1, m))\n",
    "    \n",
    "top_side = hilbert(3)\n",
    "right_side = rotate(240, top_side)\n",
    "left_side = rotate(120, top_side)\n",
    "top_side = pin(bottom_left, top_side)\n",
    "left_side = pin(top_left, left_side)\n",
    "stern = kombiniere(top_side, left_side)\n",
    "stern = pin(bottom_center, stern)\n",
    "right_side = pin(bottom_left, right_side)\n",
    "stern = kombiniere(stern, right_side)\n",
    "show_graphic(stern)\n",
    "x = graphic_height(stern)\n",
    "show_graphic(draw_line(x))\n",
    "        "
   ]
  },
  {
   "cell_type": "code",
   "execution_count": 45,
   "metadata": {},
   "outputs": [
    {
     "ename": "TypeError",
     "evalue": "Ungültiger Typ für den Parameter vordere_grafik: erwartet Grafik, erhalten ABCMeta",
     "output_type": "error",
     "traceback": [
      "\u001b[1;31m---------------------------------------------------------------------------\u001b[0m",
      "\u001b[1;31mTypeError\u001b[0m                                 Traceback (most recent call last)",
      "Cell \u001b[1;32mIn[45], line 21\u001b[0m\n\u001b[0;32m     18\u001b[0m     stern \u001b[38;5;241m=\u001b[39m overlay(spines, stern)\n\u001b[0;32m     19\u001b[0m     \u001b[38;5;28;01mreturn\u001b[39;00m stern\n\u001b[1;32m---> 21\u001b[0m show_graphic(\u001b[43mcreate_snow_flake\u001b[49m\u001b[43m(\u001b[49m\u001b[38;5;241;43m4\u001b[39;49m\u001b[43m)\u001b[49m)\n",
      "Cell \u001b[1;32mIn[45], line 16\u001b[0m, in \u001b[0;36mcreate_snow_flake\u001b[1;34m(n)\u001b[0m\n\u001b[0;32m     14\u001b[0m spines \u001b[38;5;241m=\u001b[39m Empty\n\u001b[0;32m     15\u001b[0m \u001b[38;5;28;01mfor\u001b[39;00m i \u001b[38;5;129;01min\u001b[39;00m \u001b[38;5;28mrange\u001b[39m(\u001b[38;5;241m60\u001b[39m, \u001b[38;5;241m180\u001b[39m, \u001b[38;5;241m60\u001b[39m):\n\u001b[1;32m---> 16\u001b[0m     spine \u001b[38;5;241m=\u001b[39m \u001b[43moverlay\u001b[49m\u001b[43m(\u001b[49m\u001b[43mspines\u001b[49m\u001b[43m,\u001b[49m\u001b[43m \u001b[49m\u001b[43mrotate\u001b[49m\u001b[43m(\u001b[49m\u001b[43mi\u001b[49m\u001b[43m,\u001b[49m\u001b[43m \u001b[49m\u001b[43mspine\u001b[49m\u001b[43m)\u001b[49m\u001b[43m)\u001b[49m\n\u001b[0;32m     18\u001b[0m stern \u001b[38;5;241m=\u001b[39m overlay(spines, stern)\n\u001b[0;32m     19\u001b[0m \u001b[38;5;28;01mreturn\u001b[39;00m stern\n",
      "File \u001b[1;32mg:\\Meine Ablage\\Schule\\00_laufende_Klassen\\I_fP_24-28\\Skript\\.venv\\Lib\\site-packages\\pytamaro\\operations.py:91\u001b[0m, in \u001b[0;36moverlay\u001b[1;34m(foreground_graphic, background_graphic)\u001b[0m\n\u001b[0;32m     78\u001b[0m \u001b[38;5;129m@export\u001b[39m\n\u001b[0;32m     79\u001b[0m \u001b[38;5;28;01mdef\u001b[39;00m \u001b[38;5;21moverlay\u001b[39m(foreground_graphic: Graphic, background_graphic: Graphic) \u001b[38;5;241m-\u001b[39m\u001b[38;5;241m>\u001b[39m Graphic:\n\u001b[0;32m     80\u001b[0m \u001b[38;5;250m    \u001b[39m\u001b[38;5;124;03m\"\"\"\u001b[39;00m\n\u001b[0;32m     81\u001b[0m \u001b[38;5;124;03m    Creates a new graphic by overlaying the two provided graphics,\u001b[39;00m\n\u001b[0;32m     82\u001b[0m \u001b[38;5;124;03m    keeping the first one in the foreground and the second one in background.\u001b[39;00m\n\u001b[1;32m   (...)\u001b[0m\n\u001b[0;32m     89\u001b[0m \u001b[38;5;124;03m    :returns: the resulting graphic after overlaying the two provided ones\u001b[39;00m\n\u001b[0;32m     90\u001b[0m \u001b[38;5;124;03m    \"\"\"\u001b[39;00m\n\u001b[1;32m---> 91\u001b[0m     \u001b[43mcheck_graphic\u001b[49m\u001b[43m(\u001b[49m\u001b[43mforeground_graphic\u001b[49m\u001b[43m,\u001b[49m\u001b[43m \u001b[49m\u001b[38;5;124;43m\"\u001b[39;49m\u001b[38;5;124;43mforeground_graphic\u001b[39;49m\u001b[38;5;124;43m\"\u001b[39;49m\u001b[43m)\u001b[49m\n\u001b[0;32m     92\u001b[0m     check_graphic(background_graphic, \u001b[38;5;124m\"\u001b[39m\u001b[38;5;124mbackground_graphic\u001b[39m\u001b[38;5;124m\"\u001b[39m)\n\u001b[0;32m     93\u001b[0m     \u001b[38;5;28;01mreturn\u001b[39;00m Overlay(foreground_graphic, background_graphic)\n",
      "File \u001b[1;32mg:\\Meine Ablage\\Schule\\00_laufende_Klassen\\I_fP_24-28\\Skript\\.venv\\Lib\\site-packages\\pytamaro\\checks.py:77\u001b[0m, in \u001b[0;36mcheck_graphic\u001b[1;34m(graphic, parameter_name)\u001b[0m\n\u001b[0;32m     70\u001b[0m \u001b[38;5;28;01mdef\u001b[39;00m \u001b[38;5;21mcheck_graphic\u001b[39m(graphic: Any, parameter_name: \u001b[38;5;28mstr\u001b[39m \u001b[38;5;241m=\u001b[39m \u001b[38;5;124m\"\u001b[39m\u001b[38;5;124mgraphic\u001b[39m\u001b[38;5;124m\"\u001b[39m):\n\u001b[0;32m     71\u001b[0m \u001b[38;5;250m    \u001b[39m\u001b[38;5;124;03m\"\"\"\u001b[39;00m\n\u001b[0;32m     72\u001b[0m \u001b[38;5;124;03m    Raises an exception when the provided value is not valid for a\u001b[39;00m\n\u001b[0;32m     73\u001b[0m \u001b[38;5;124;03m    graphic, not being of type Graphic.\u001b[39;00m\n\u001b[0;32m     74\u001b[0m \n\u001b[0;32m     75\u001b[0m \u001b[38;5;124;03m    :param color: the value for a color to be checked\u001b[39;00m\n\u001b[0;32m     76\u001b[0m \u001b[38;5;124;03m    \"\"\"\u001b[39;00m\n\u001b[1;32m---> 77\u001b[0m     \u001b[43mcheck_type\u001b[49m\u001b[43m(\u001b[49m\u001b[43mgraphic\u001b[49m\u001b[43m,\u001b[49m\u001b[43m \u001b[49m\u001b[43mGraphic\u001b[49m\u001b[43m,\u001b[49m\u001b[43m \u001b[49m\u001b[43mparameter_name\u001b[49m\u001b[43m)\u001b[49m\n",
      "File \u001b[1;32mg:\\Meine Ablage\\Schule\\00_laufende_Klassen\\I_fP_24-28\\Skript\\.venv\\Lib\\site-packages\\pytamaro\\checks.py:54\u001b[0m, in \u001b[0;36mcheck_type\u001b[1;34m(value, expected_type, parameter_name)\u001b[0m\n\u001b[0;32m     52\u001b[0m actual_public_type \u001b[38;5;241m=\u001b[39m Graphic \u001b[38;5;28;01mif\u001b[39;00m \u001b[38;5;28missubclass\u001b[39m(actual_type, Graphic) \u001b[38;5;28;01melse\u001b[39;00m actual_type\n\u001b[0;32m     53\u001b[0m actual_type_name: \u001b[38;5;28mstr\u001b[39m \u001b[38;5;241m=\u001b[39m actual_public_type\u001b[38;5;241m.\u001b[39m\u001b[38;5;18m__name__\u001b[39m\n\u001b[1;32m---> 54\u001b[0m \u001b[38;5;28;01mraise\u001b[39;00m \u001b[38;5;167;01mTypeError\u001b[39;00m(translate(\u001b[38;5;124m\"\u001b[39m\u001b[38;5;124mINVALID_TYPE\u001b[39m\u001b[38;5;124m\"\u001b[39m,\n\u001b[0;32m     55\u001b[0m                           translate(parameter_name),\n\u001b[0;32m     56\u001b[0m                           translate(expected_type_name),\n\u001b[0;32m     57\u001b[0m                           translate(actual_type_name)))\n",
      "\u001b[1;31mTypeError\u001b[0m: Ungültiger Typ für den Parameter vordere_grafik: erwartet Grafik, erhalten ABCMeta"
     ]
    }
   ],
   "source": [
    "def create_snow_flake(n: int) -> Graphic:\n",
    "    top_side = hilbert(3)\n",
    "    right_side = rotate(240, top_side)\n",
    "    left_side = rotate(120, top_side)\n",
    "    top_side = pin(bottom_left, top_side)\n",
    "    left_side = pin(top_left, left_side)\n",
    "    stern = kombiniere(top_side, left_side)\n",
    "    stern = pin(bottom_center, stern)\n",
    "    right_side = pin(bottom_left, right_side)\n",
    "    stern = kombiniere(stern, right_side)\n",
    "    \n",
    "    spine_length = graphic_height(stern)\n",
    "    spine = draw_line(spine_length)\n",
    "    spines = Empty\n",
    "    for i in range(60, 180, 60):\n",
    "        spine = overlay(spines, rotate(i, spine))\n",
    "        \n",
    "    stern = overlay(spines, stern)\n",
    "    return stern\n",
    "\n",
    "show_graphic(create_snow_flake(4))"
   ]
  },
  {
   "cell_type": "code",
   "execution_count": null,
   "metadata": {},
   "outputs": [],
   "source": []
  }
 ],
 "metadata": {
  "kernelspec": {
   "display_name": ".venv",
   "language": "python",
   "name": "python3"
  },
  "language_info": {
   "codemirror_mode": {
    "name": "ipython",
    "version": 3
   },
   "file_extension": ".py",
   "mimetype": "text/x-python",
   "name": "python",
   "nbconvert_exporter": "python",
   "pygments_lexer": "ipython3",
   "version": "3.12.6"
  }
 },
 "nbformat": 4,
 "nbformat_minor": 2
}
