{
 "cells": [
  {
   "cell_type": "markdown",
   "metadata": {},
   "source": [
    "# Einführende Beispiele für rekursive Funktionen"
   ]
  },
  {
   "cell_type": "markdown",
   "metadata": {},
   "source": [
    "## Addieren der natürlichen Zahlen 1 - $n$\n",
    "\n",
    "Die Lösung für diese Aufgabe erfolgt heute mit der Gausschen Summenformel\n",
    "(kleiner Gauss) berechnet: \n",
    "\n",
    "$$\n",
    "1+2+3+...+n = \\sum_{k=1}^n k = \\frac{n(n+1)}{2} = \\frac{n^2+n}{2}\n",
    "$$\n",
    "\n",
    "Die Aufgabe kann aber auch rekursiv gelöst werden:\n",
    "\n",
    "$$\n",
    "1+2+3+...+n = n + (n - 1) + ((n - 1) - 1) +... + (n - n)\n",
    "$$\n",
    "\n",
    "In einem ersten Schritt wird der kleine Gauss als Funktion implementiert. In\n",
    "einem zweiten Schritt soll die gleiche Funktion rekursiv implementiert werden. "
   ]
  },
  {
   "cell_type": "markdown",
   "metadata": {},
   "source": [
    "### Kleiner Gauss als Funktion in Python"
   ]
  },
  {
   "cell_type": "code",
   "execution_count": null,
   "metadata": {},
   "outputs": [
    {
     "data": {
      "text/plain": [
       "55"
      ]
     },
     "execution_count": 2,
     "metadata": {},
     "output_type": "execute_result"
    }
   ],
   "source": [
    "def kleiner_gauss(n: int) -> int:\n",
    "    return int((n**2+n)/2)   # die Funktion int() transformiert das Resultat in ein int\n",
    "\n",
    "kleiner_gauss(10)"
   ]
  },
  {
   "cell_type": "markdown",
   "metadata": {},
   "source": [
    "Grundsätzlich wird in der Funktion lediglich die Formel des kleinen Gauss\n",
    "abgearbeitet. Weil Python standardmässig das Resultat einer Divisionsrechnung\n",
    "als float darstellt, muss das Resultat der Berechnung in ein integer umgewandelt\n",
    "werden. Mann nennt diese Typenkonversion in der Informatik *type casting*. Der\n",
    "*cast* erfolgt in diesem Fall mit der Funktion `int()`."
   ]
  },
  {
   "cell_type": "markdown",
   "metadata": {},
   "source": [
    "### Addition der natürlichen Zahlen 1 - $n$ als rekursive Funktion"
   ]
  },
  {
   "cell_type": "code",
   "execution_count": null,
   "metadata": {},
   "outputs": [
    {
     "data": {
      "text/plain": [
       "55"
      ]
     },
     "execution_count": 3,
     "metadata": {},
     "output_type": "execute_result"
    }
   ],
   "source": [
    "def gaus_rekursiv(n: int) -> int:\n",
    "    if n == 0:               # Abbruchbedingung\n",
    "        return n\n",
    "    else:                    # rekursiver Aufruf\n",
    "        return n + gaus_rekursiv(n-1)\n",
    "    \n",
    "gaus_rekursiv(10)"
   ]
  },
  {
   "cell_type": "markdown",
   "metadata": {},
   "source": [
    "Damit eine rekursive Funktion nicht zu einer Endlosschleife wird, muss zu Beginn\n",
    "eine Abbruchbedingung formuliert werden. Im vorliegenden Beispiel soll die\n",
    "Funktion abbrechen, wenn die Bedingung `n == 0` erfüllt ist.  In allen anderen\n",
    "Fällen soll die Funktion mit dem um $1$ reduzierten Argument $n$ erneut\n",
    "aufgerufen werden (Rekursion)."
   ]
  },
  {
   "cell_type": "markdown",
   "metadata": {},
   "source": [
    "## Berechnung von $n!$"
   ]
  },
  {
   "cell_type": "markdown",
   "metadata": {},
   "source": [
    "### Berechnen von $n!$ mit einem for-loop"
   ]
  },
  {
   "cell_type": "code",
   "execution_count": 4,
   "metadata": {},
   "outputs": [
    {
     "data": {
      "text/plain": [
       "120"
      ]
     },
     "execution_count": 4,
     "metadata": {},
     "output_type": "execute_result"
    }
   ],
   "source": [
    "def factorial_loop(n: int) -> int:\n",
    "    result = 1\n",
    "    for i in range(1,n+1):\n",
    "        result *= i\n",
    "        \n",
    "    return result\n",
    "\n",
    "factorial_loop(5)"
   ]
  },
  {
   "cell_type": "markdown",
   "metadata": {},
   "source": [
    "Wenn $n!$ mit einem `for-loop` berechnet wird, muss in der Funktion eine\n",
    "Variabel mit dem neutralen Wert für Multiplikationen (1) instanziert werden\n",
    "bevor der loop beginnt. Im loop muss darauf geachtet werden, dass er bei 1\n",
    "beginnt, andernfalls würde der Wert von `result` 0. Ausserdem muss der Endwert\n",
    "$n+1$ sein (der Endwert der `range()` Funktion wird nicht erreicht)."
   ]
  },
  {
   "cell_type": "markdown",
   "metadata": {},
   "source": [
    "### Berechnen von $n!$ mit einer rekursiven Funktion"
   ]
  },
  {
   "cell_type": "code",
   "execution_count": null,
   "metadata": {},
   "outputs": [
    {
     "data": {
      "text/plain": [
       "120"
      ]
     },
     "execution_count": 6,
     "metadata": {},
     "output_type": "execute_result"
    }
   ],
   "source": [
    "def factorial_recursive(n: int) -> int:\n",
    "    if n == 1 or n == 0:\n",
    "        return 1\n",
    "    else:\n",
    "        return n * factorial_recursive(n-1)\n",
    "    \n",
    "factorial_recursive(5)"
   ]
  },
  {
   "cell_type": "markdown",
   "metadata": {},
   "source": [
    "Als Abbruchbedingung werden in diesem Fall zwei Fälle definiert: `n == 1` und `n\n",
    "== 0`. Sowohl für $1!$ wie auch für $0!$ ist das Resultat per definitionem 1."
   ]
  },
  {
   "cell_type": "markdown",
   "metadata": {},
   "source": [
    "## Berechnung der $n$-ten Fibonacci-Zahl\n",
    "\n",
    "Die Fibonacci Folge ist die Folge aller Zahlen, beginnend bei 1, bei der jeweils\n",
    "die Summe der beiden vorangegangenen Zahlen die nächste Zahl ergeben. Als\n",
    "Übungsaufgabe soll die $n$-te Fibonacci-Zahl zuerst mit einem loop und\n",
    "anschliessend rekursiv implementiert werden."
   ]
  },
  {
   "cell_type": "markdown",
   "metadata": {},
   "source": [
    "### Fibonacci Zahl mit `for-loop`"
   ]
  },
  {
   "cell_type": "code",
   "execution_count": 12,
   "metadata": {},
   "outputs": [
    {
     "data": {
      "text/plain": [
       "21"
      ]
     },
     "execution_count": 12,
     "metadata": {},
     "output_type": "execute_result"
    }
   ],
   "source": [
    "def fibonacci_loop(n: int) -> int:\n",
    "    if n <= 2:\n",
    "        return 1\n",
    "    n1 = 1\n",
    "    n2 = 1\n",
    "    for i in range(2,n):\n",
    "        tmp = n2\n",
    "        n2 = n1 + n2\n",
    "        n1 = tmp\n",
    "        \n",
    "    return n2\n",
    "\n",
    "fibonacci_loop(8)"
   ]
  },
  {
   "cell_type": "markdown",
   "metadata": {},
   "source": [
    "Die ersten beiden Fibonacci-Zahlen sind $1$. Entsprechend wird bei $n\\leq 2$ $1$\n",
    "zurückgegeben. Aus der gleichen Überlegung werden die beiden der gesuchten Zahl\n",
    "vorausgehenden Zahlen $n_1$ und $n_2$ mit $1$ instanziert. Anschliessend werden in\n",
    "der Schlaufe die beiden Zahlen zusammengezählt und neu zugewiesen. Nach $n$\n",
    "iterationen wird der aktuelle Wert von $n_2$ zurückgegeben."
   ]
  },
  {
   "cell_type": "markdown",
   "metadata": {},
   "source": [
    "### Fibonacci Zahl mit rekursiver Funktion"
   ]
  },
  {
   "cell_type": "code",
   "execution_count": 13,
   "metadata": {},
   "outputs": [
    {
     "data": {
      "text/plain": [
       "21"
      ]
     },
     "execution_count": 13,
     "metadata": {},
     "output_type": "execute_result"
    }
   ],
   "source": [
    "def fibonacci_recursive(n: int) -> int:\n",
    "    if n == 1 or n == 2:\n",
    "        return 1\n",
    "    else:\n",
    "        return fibonacci_recursive(n-1) + fibonacci_recursive(n-2)\n",
    "    \n",
    "fibonacci_recursive(8)"
   ]
  },
  {
   "cell_type": "markdown",
   "metadata": {},
   "source": [
    "Als Abbruchbedingung müssen für die rekursive Berechnung der $n$-ten Fibonacci\n",
    "Zahl zwei Fälle berücksichtigt werden: $n=1$ und $n=2$. In beiden Fällen ist der\n",
    "Rückgabewert $1$. Rekursiv wird die Funktion mit $n-1$ **und** $n-2$ aufgerufen.\n",
    "Dies führt allerdings dazu, dass die erforderlichen Rekursionsebenen\n",
    "exponentiell zu $n$ zunehmen."
   ]
  }
 ],
 "metadata": {
  "kernelspec": {
   "display_name": "Python 3 (ipykernel)",
   "language": "python",
   "name": "python3"
  },
  "language_info": {
   "codemirror_mode": {
    "name": "ipython",
    "version": 3
   },
   "file_extension": ".py",
   "mimetype": "text/x-python",
   "name": "python",
   "nbconvert_exporter": "python",
   "pygments_lexer": "ipython3",
   "version": "3.12.6"
  },
  "widgets": {
   "application/vnd.jupyter.widget-state+json": {
    "state": {},
    "version_major": 2,
    "version_minor": 0
   }
  }
 },
 "nbformat": 4,
 "nbformat_minor": 4
}
