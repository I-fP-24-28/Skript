{
 "cells": [
  {
   "cell_type": "markdown",
   "metadata": {},
   "source": [
    "# Einführende Beispiele für rekursive Funktionen"
   ]
  },
  {
   "cell_type": "markdown",
   "metadata": {},
   "source": [
    "## Addieren der natürlichen Zahlen 1 - $n$\n",
    "\n",
    "Die Lösung für diese Aufgabe erfolgt heute mit der Gausschen Summenformel\n",
    "(kleiner Gauss) berechnet: \n",
    "\n",
    "$$\n",
    "1+2+3+...+n = \\sum_{k=1}^n k = \\frac{n(n+1)}{2} = \\frac{n^2+n}{2}\n",
    "$$\n",
    "\n",
    "Die Aufgabe kann aber auch rekursiv gelöst werden:\n",
    "\n",
    "$$\n",
    "1+2+3+...+n = n + (n - 1) + ((n - 1) - 1) +... + (n - n)\n",
    "$$\n",
    "\n",
    "In einem ersten Schritt wird der kleine Gauss als Funktion implementiert. In\n",
    "einem zweiten Schritt soll die gleiche Funktion rekursiv implementiert werden. "
   ]
  },
  {
   "cell_type": "markdown",
   "metadata": {},
   "source": [
    "### Kleiner Gauss als Funktion in Python"
   ]
  },
  {
   "cell_type": "code",
   "execution_count": null,
   "metadata": {},
   "outputs": [
    {
     "data": {
      "text/plain": [
       "55"
      ]
     },
     "execution_count": 2,
     "metadata": {},
     "output_type": "execute_result"
    }
   ],
   "source": [
    "def kleiner_gauss(n: int) -> int:\n",
    "    return int((n**2+n)/2)   # die Funktion int() transformiert das Resultat in ein int\n",
    "\n",
    "kleiner_gauss(10)"
   ]
  },
  {
   "cell_type": "markdown",
   "metadata": {},
   "source": [
    "### Addition der natürlichen Zahlen 1 - $n$ als rekursive Funktion"
   ]
  },
  {
   "cell_type": "code",
   "execution_count": null,
   "metadata": {},
   "outputs": [
    {
     "data": {
      "text/plain": [
       "55"
      ]
     },
     "execution_count": 3,
     "metadata": {},
     "output_type": "execute_result"
    }
   ],
   "source": [
    "def gaus_rekursiv(n: int) -> int:\n",
    "    if n == 0:               # Abbruchbedingung\n",
    "        return n\n",
    "    else:                    # rekursiver Aufruf\n",
    "        return n + gaus_rekursiv(n-1)\n",
    "    \n",
    "gaus_rekursiv(10)"
   ]
  },
  {
   "cell_type": "markdown",
   "metadata": {},
   "source": [
    "## Berechnung von $n!$"
   ]
  },
  {
   "cell_type": "markdown",
   "metadata": {},
   "source": [
    "### Berechnen von $n!$ mit einem for-loop"
   ]
  },
  {
   "cell_type": "code",
   "execution_count": 4,
   "metadata": {},
   "outputs": [
    {
     "data": {
      "text/plain": [
       "120"
      ]
     },
     "execution_count": 4,
     "metadata": {},
     "output_type": "execute_result"
    }
   ],
   "source": [
    "def factorial_loop(n: int) -> int:\n",
    "    result = 1\n",
    "    for i in range(1,n+1):\n",
    "        result *= i\n",
    "        \n",
    "    return result\n",
    "\n",
    "factorial_loop(5)"
   ]
  },
  {
   "cell_type": "markdown",
   "metadata": {},
   "source": [
    "### Berechnen von $n!$ mit einer rekursiven Funktion"
   ]
  },
  {
   "cell_type": "code",
   "execution_count": 6,
   "metadata": {},
   "outputs": [
    {
     "data": {
      "text/plain": [
       "120"
      ]
     },
     "execution_count": 6,
     "metadata": {},
     "output_type": "execute_result"
    }
   ],
   "source": [
    "def factorial_recursive(n: int) -> int:\n",
    "    if n == 1:\n",
    "        return n\n",
    "    else:\n",
    "        return n * factorial_recursive(n-1)\n",
    "    \n",
    "factorial_recursive(5)"
   ]
  }
 ],
 "metadata": {
  "kernelspec": {
   "display_name": "Python 3",
   "language": "python",
   "name": "python3"
  },
  "language_info": {
   "codemirror_mode": {
    "name": "ipython",
    "version": 3
   },
   "file_extension": ".py",
   "mimetype": "text/x-python",
   "name": "python",
   "nbconvert_exporter": "python",
   "pygments_lexer": "ipython3",
   "version": "3.13.0"
  }
 },
 "nbformat": 4,
 "nbformat_minor": 2
}
